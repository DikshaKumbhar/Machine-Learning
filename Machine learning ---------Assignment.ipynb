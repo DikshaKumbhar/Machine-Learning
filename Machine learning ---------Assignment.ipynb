{
 "cells": [
  {
   "cell_type": "markdown",
   "id": "b2301517-3f62-453d-b2a5-931e450963fb",
   "metadata": {},
   "source": [
    "### Machine Learning Intro | Assignment"
   ]
  },
  {
   "cell_type": "markdown",
   "id": "2c82c785-be09-4108-a731-fcc6060a90c8",
   "metadata": {},
   "source": [
    "**Question 1: Explain the differences between AI, ML, Deep Learning (DL), and Data\n",
    "Science (DS).**\n",
    "- **Ans:**\n",
    "**1. Artificial Intelligence (AI)**\n",
    "- Definition: AI is the broad field of making machines (computers, systems, robots) that can perform tasks that normally require human intelligence.\n",
    "- To create systems that can “think,” “reason,” “decide,” and “learn” like humans.\n",
    "Examples:\n",
    "Siri, Alexa (speech recognition)\n",
    "Self-driving cars\n",
    "Chess-playing programs\n",
    "Think of AI as the umbrella term under which ML, DL, and other approaches exist.\n",
    "\n",
    "**2. Machine Learning (ML)**\n",
    "- Definition: ML is a subset of AI where machines learn from data without being explicitly programmed.\n",
    "- To make predictions or decisions using patterns in data.\n",
    "- You feed data → ML algorithm learns patterns → It predicts outcomes on new data.\n",
    "- Examples:\n",
    "- Spam email detection\n",
    "- Netflix recommendations\n",
    "- Credit card fraud detection\n",
    "- ML is AI that learns from data instead of just following rules.\n",
    "\n",
    "**3. Deep Learning (DL)**\n",
    "- Definition: DL is a subset of ML that uses Artificial Neural Networks (ANNs) inspired by the human brain.\n",
    "- To handle complex tasks like image recognition, speech, and natural language understanding.\n",
    "- How it works: It has multiple layers of neurons (hence “deep”) that automatically learn features from raw data.\n",
    "- Examples:\n",
    "- Face recognition in photos\n",
    "- Google Translate (language translation)\n",
    "- Autonomous driving vision systems\n",
    "- DL is ML with neural networks – very powerful for unstructured data (images, audio, text).\n",
    "\n",
    "**4. Data Science (DS)**\n",
    "- Definition: Data Science is the field of collecting, cleaning, analyzing, and interpreting data to extract useful insights.\n",
    "- To solve business problems, support decision-making, and communicate results.\n",
    "- Includes:\n",
    "- Data cleaning & preprocessing\n",
    "- Statistics & visualization\n",
    "- Machine Learning models\n",
    "- Communicating insights\n",
    "- Examples:\n",
    "- Analyzing customer behavior\n",
    "- Predicting sales trends\n",
    "- Healthcare analytics\n",
    "- DS is broader than AI/ML—it’s about the end-to-end process of working with data."
   ]
  },
  {
   "cell_type": "markdown",
   "id": "31758d8c-ba8f-41fc-9f68-52a6516f8754",
   "metadata": {},
   "source": [
    "**Question 2: What are the types of machine learning? Describe each with onereal-world example.**\n",
    "- **Ans:**\n",
    "**1. Supervised Learning**\n",
    "-  The model is trained using labeled data (input + correct output).\n",
    "-  Learn a mapping from input → output, so it can predict the output for new data.\n",
    "- Example tasks: Classification, Regression.\n",
    "- Example:\n",
    "- Email Spam Detection\n",
    "- Input = Email text\n",
    "- Output = “Spam” or “Not Spam” (labels already known during training).\n",
    "\n",
    "**2. Unsupervised Learning**\n",
    "- The model is trained on unlabeled data (only input, no output).\n",
    "- Find hidden patterns, groups, or structure in data.\n",
    "- tasks: Clustering, Dimensionality Reduction.\n",
    "-  Example:\n",
    "- Customer Segmentation in Marketing\n",
    "- Input = Purchase history of customers\n",
    "-Model groups customers into clusters (e.g., “budget buyers,” “premium buyers”) without predefined labels.\n",
    "\n",
    "**3. Reinforcement Learning (RL)**\n",
    "- An agent learns by interacting with an environment, taking actions, and receiving rewards/penalties.\n",
    "- Learn the best strategy (policy) to maximize reward.\n",
    "- Example:\n",
    "- Self-driving Cars\n",
    "- Input = Road conditions, traffic signals, obstacles\n",
    "- Actions = Accelerate, brake, turn\n",
    "- Reward = Safe driving, reaching destination without accidents.\n",
    "        \n",
    "**4. Semi-Supervised Learning (sometimes treated as a separate type)**\n",
    "- Uses a small amount of labeled data + a large amount of unlabeled data.\n",
    "- Improve learning when labeled data is expensive or hard to get.\n",
    "- Real-world Example:\n",
    "- Medical Diagnosis\n",
    "Few labeled X-ray scans (expert doctors’ input) + thousands of unlabeled scans\n",
    "Model learns better than with only the small labeled dataset."
   ]
  },
  {
   "cell_type": "markdown",
   "id": "740e95d2-e4c2-41ac-9436-0808f868ab88",
   "metadata": {},
   "source": [
    "**Question 3: Define overfitting, underfitting, and the bias-variance tradeoff in machine\n",
    "learning.**\n",
    "- **Ans:**\n",
    "**1. Overfitting**\n",
    "- A model learns the training data too well, including noise and irrelevant details, so it performs well on training data but poorly on new/unseen data.\n",
    "- Model is too complex (too many parameters/features).\n",
    "- Example:\n",
    "- In exams → You memorize answers word-for-word from last year’s paper.\n",
    "If the exact same question comes → you do well.\n",
    "If the question is slightly different → you fail.\n",
    "- High accuracy on training, low accuracy on test data.\n",
    "\n",
    "**2. Underfitting**\n",
    "-  A model is too simple to capture patterns in the data, so it performs poorly on both training and test data.\n",
    "- Model is not complex enough (too few parameters/features).\n",
    "- Example:\n",
    "- In exams → You only study chapter headings, not the actual content.\n",
    "You fail both practice tests and the final exam.\n",
    "- Low accuracy on both training and test data.\n",
    "  \n",
    "**3. Bias-Variance Tradeoff**\n",
    "- This explains why overfitting and underfitting happen.\n",
    "- Bias: Error from making too many assumptions (oversimplifying the problem).\n",
    "- High bias → Underfitting.\n",
    "- Variance: Error from being too sensitive to training data (model is overly complex).\n",
    "- High variance → Overfitting.\n",
    "- Tradeoff:\n",
    "- We want to balance bias & variance.\n",
    "- Too much bias → Model is too simple (bad).\n",
    "- Too much variance → Model is too complex (bad).\n",
    "- Goal = Find a “sweet spot” with low total error."
   ]
  },
  {
   "cell_type": "markdown",
   "id": "5b4a6211-6733-424c-ad77-a03d12e0207c",
   "metadata": {},
   "source": [
    "**Question 4: What are outliers in a dataset, and list three common techniques for\n",
    "handling** \n",
    "- Outliers are data points that deviate significantly from the overall pattern of a dataset.\n",
    "They are unusually high or low values compared to the rest of the data. Outliers can occur due to variability in the data, measurement errors, or unusual events.\n",
    "- Outliers matter because they can:\n",
    "- 1. Skew statistical results (like mean, standard deviation).\n",
    "- 2. Mislead machine learning models.\n",
    "- 3. Sometimes represent important rare events (fraud, disease, etc.).\n",
    "- Three common techniques for handling outliers\n",
    "- Removal (Deleting Outliers)\n",
    "- If outliers are due to data entry errors or noise, they can be removed.\n",
    "- Example: Dropping values that fall outside ±3 standard deviations.\n",
    "- 2. Transformation (Reducing Outlier Impact)\n",
    "- Applying log, square root, or Box-Cox transformations reduces the effect of extreme values.\n",
    "- Example: Using log(x) for skewed income data.\n",
    "- 3. Capping (Winsorization)\n",
    "- Replacing extreme values with nearest acceptable values (at a percentile threshold).\n",
    "- Example: Replacing values above the 95th percentile with the 95th percentile value."
   ]
  },
  {
   "cell_type": "markdown",
   "id": "9116e58b-6895-4fa2-a02f-4badf8309ffe",
   "metadata": {},
   "source": [
    "**Question 5: Explain the process of handling missing values and mention one\n",
    "imputation technique for numerical and one for categorical data**\n",
    "\n",
    "- Ans : Process of Handling Missing Values\n",
    "- 1. Identify missing values\n",
    "- Check the dataset for NaN or null entries (e.g., using .isnull() in Python).\n",
    "- 2. Analyze the pattern\n",
    "- See how much data is missing (percentage of missing values per column).\n",
    "- Check if the missingness is random or has a pattern.\n",
    "- 3. Decide the strategy\n",
    "- Remove data: Drop rows/columns if too many values are missing.\n",
    "- Impute data: Replace missing values with reasonable estimates.\n",
    "- Flag data: Create an indicator variable to show missingness (sometimes useful in ML).\n",
    "\n",
    "### Imputation Techniques\n",
    "- For Numerical Data:\n",
    "- Mean/Median Imputation → Replace missing value with the mean or median of that column.\n",
    "- Example: If Age is missing, replace with the average age.\n",
    "- For Categorical Data:\n",
    "- Mode Imputation → Replace missing value with the most frequent category.\n",
    "- Example: If Gender is missing, fill with the most common gender in the dataset."
   ]
  },
  {
   "cell_type": "markdown",
   "id": "5dc36201-10c8-4e02-a153-28c791da03a5",
   "metadata": {},
   "source": [
    "**Question 6: Write a Python program that:\n",
    "● Creates a synthetic imbalanced dataset with make_classification() from\n",
    "sklearn.datasets.\n",
    "● Prints the class distribution**"
   ]
  },
  {
   "cell_type": "code",
   "execution_count": 5,
   "id": "6953dd5d-0a13-4e37-b06f-f65c93da7944",
   "metadata": {},
   "outputs": [
    {
     "name": "stdout",
     "output_type": "stream",
     "text": [
      "Class distribution: Counter({np.int64(0): 897, np.int64(1): 103})\n"
     ]
    }
   ],
   "source": [
    "# Import required libraries\n",
    "from sklearn.datasets import make_classification\n",
    "from collections import Counter\n",
    "\n",
    "# Create a synthetic imbalanced dataset\n",
    "X, y = make_classification(n_samples=1000,      # total rows\n",
    "                           n_features=10,       # number of features\n",
    "                           n_informative=2,     # number of informative features\n",
    "                           n_redundant=2,       # number of redundant features\n",
    "                           n_classes=2,         # binary classification\n",
    "                           weights=[0.9, 0.1],  # imbalance ratio (90% - 10%)\n",
    "                           random_state=42)\n",
    "\n",
    "# Print class distribution\n",
    "print(\"Class distribution:\", Counter(y))\n"
   ]
  },
  {
   "cell_type": "markdown",
   "id": "77080c57-dcd4-433d-b356-e808354ee608",
   "metadata": {},
   "source": [
    "**Question 7: Implement one-hot encoding using pandas for the following list of colors:\n",
    "['Red', 'Green', 'Blue', 'Green', 'Red']. Print the resulting dataframe.**"
   ]
  },
  {
   "cell_type": "code",
   "execution_count": 6,
   "id": "123b3580-1713-4b54-bce8-0dfb3e647983",
   "metadata": {},
   "outputs": [
    {
     "name": "stdout",
     "output_type": "stream",
     "text": [
      "   Color_Blue  Color_Green  Color_Red\n",
      "0       False        False       True\n",
      "1       False         True      False\n",
      "2        True        False      False\n",
      "3       False         True      False\n",
      "4       False        False       True\n"
     ]
    }
   ],
   "source": [
    "import pandas as pd\n",
    "\n",
    "# Original list of colors\n",
    "colors = ['Red', 'Green', 'Blue', 'Green', 'Red']\n",
    "\n",
    "# Convert list into a DataFrame\n",
    "df = pd.DataFrame(colors, columns=['Color'])\n",
    "\n",
    "# Apply one-hot encoding using pandas get_dummies()\n",
    "encoded_df = pd.get_dummies(df, columns=['Color'])\n",
    "\n",
    "# Print the resulting DataFrame\n",
    "print(encoded_df)\n"
   ]
  },
  {
   "cell_type": "markdown",
   "id": "c443e30e-95be-46c1-8fd3-162b04283f84",
   "metadata": {},
   "source": [
    "**Question 8: Write a Python script to:\n",
    "● Generate 1000 samples from a normal distribution.\n",
    "● Introduce 50 random missing values.\n",
    "● Fill missing values with the column mean.\n",
    "● Plot a histogram before and after imputation.**"
   ]
  },
  {
   "cell_type": "code",
   "execution_count": 7,
   "id": "48e1466d-eb02-437e-9a4b-81273e6bc450",
   "metadata": {},
   "outputs": [
    {
     "name": "stderr",
     "output_type": "stream",
     "text": [
      "C:\\Users\\Diksha\\AppData\\Local\\Temp\\ipykernel_13492\\1779594769.py:21: FutureWarning: A value is trying to be set on a copy of a DataFrame or Series through chained assignment using an inplace method.\n",
      "The behavior will change in pandas 3.0. This inplace method will never work because the intermediate object on which we are setting values always behaves as a copy.\n",
      "\n",
      "For example, when doing 'df[col].method(value, inplace=True)', try using 'df.method({col: value}, inplace=True)' or df[col] = df[col].method(value) instead, to perform the operation inplace on the original object.\n",
      "\n",
      "\n",
      "  df['Value'].fillna(mean_value, inplace=True)\n"
     ]
    },
    {
     "data": {
      "image/png": "[encoded data removed]",
      "text/plain": [
       "<Figure size 1200x500 with 2 Axes>"
      ]
     },
     "metadata": {},
     "output_type": "display_data"
    }
   ],
   "source": [
    "import numpy as np\n",
    "import pandas as pd\n",
    "import matplotlib.pyplot as plt\n",
    "\n",
    "# 1. Generate 1000 samples from a normal distribution\n",
    "np.random.seed(42)  # for reproducibility\n",
    "data = np.random.normal(loc=50, scale=10, size=1000)  # mean=50, std=10\n",
    "\n",
    "# Convert to DataFrame\n",
    "df = pd.DataFrame(data, columns=['Value'])\n",
    "\n",
    "# 2. Introduce 50 random missing values\n",
    "missing_indices = np.random.choice(df.index, size=50, replace=False)\n",
    "df.loc[missing_indices, 'Value'] = np.nan\n",
    "\n",
    "# Copy original data for comparison\n",
    "df_before = df['Value'].copy()\n",
    "\n",
    "# 3. Fill missing values with the column mean\n",
    "mean_value = df['Value'].mean()\n",
    "df['Value'].fillna(mean_value, inplace=True)\n",
    "\n",
    "# 4. Plot histograms before and after imputation\n",
    "plt.figure(figsize=(12,5))\n",
    "\n",
    "# Before imputation\n",
    "plt.subplot(1,2,1)\n",
    "plt.hist(df_before.dropna(), bins=30, edgecolor='black')\n",
    "plt.title(\"Before Imputation\")\n",
    "plt.xlabel(\"Value\")\n",
    "plt.ylabel(\"Frequency\")\n",
    "\n",
    "# After imputation\n",
    "plt.subplot(1,2,2)\n",
    "plt.hist(df['Value'], bins=30, edgecolor='black')\n",
    "plt.title(\"After Imputation (Mean)\")\n",
    "plt.xlabel(\"Value\")\n",
    "plt.ylabel(\"Frequency\")\n",
    "\n",
    "plt.tight_layout()\n",
    "plt.show()\n"
   ]
  },
  {
   "cell_type": "markdown",
   "id": "6af20332-dc4c-4d0c-a89a-be19b17c5bde",
   "metadata": {},
   "source": [
    "**Question 9: Implement Min-Max scaling on the following list of numbers [2, 5, 10, 15,\n",
    "20] using sklearn.preprocessing.MinMaxScaler. Print the scaled array.**"
   ]
  },
  {
   "cell_type": "code",
   "execution_count": 9,
   "id": "7e9e1a98-fd76-430d-8862-051db1b22ea7",
   "metadata": {},
   "outputs": [
    {
     "name": "stdout",
     "output_type": "stream",
     "text": [
      "Original Data:\n",
      " [ 2  5 10 15 20]\n",
      "Scaled Data:\n",
      " [0.         0.16666667 0.44444444 0.72222222 1.        ]\n"
     ]
    }
   ],
   "source": [
    "import numpy as np\n",
    "from sklearn.preprocessing import MinMaxScaler\n",
    "\n",
    "# Original data\n",
    "data = np.array([2, 5, 10, 15, 20]).reshape(-1, 1)\n",
    "\n",
    "# Create scaler object\n",
    "scaler = MinMaxScaler()\n",
    "\n",
    "# Fit and transform the data\n",
    "scaled_data = scaler.fit_transform(data)\n",
    "\n",
    "# Print result\n",
    "print(\"Original Data:\\n\", data.flatten())\n",
    "print(\"Scaled Data:\\n\", scaled_data.flatten())\n"
   ]
  },
  {
   "cell_type": "markdown",
   "id": "1c6ccb7e-3958-493a-8bd2-fd9a85c019f0",
   "metadata": {},
   "source": [
    "**Question 10: You are working as a data scientist for a retail company. You receive a customer\n",
    "transaction dataset that contains:\n",
    "● Missing ages,\n",
    "● Outliers in transaction amount,\n",
    "● A highly imbalanced target (fraud vs. non-fraud),\n",
    "● Categorical variables like payment method.\n",
    "Explain the step-by-step data preparation plan you’d follow before training a machine learning\n",
    "model. Include how you’d address missing data, outliers, imbalance, and encoding.**"
   ]
  },
  {
   "cell_type": "markdown",
   "id": "a5bbc6a3-e5ea-48c1-be17-5d0fd8c0e96c",
   "metadata": {},
   "source": [
    "\n",
    "# Ans : Steps that I'll follow :\n",
    "\n",
    "1. *Quick check & split* — look at missing %, unique values, and make a train/validation/test split first. If you have timestamps, use a time-based split; otherwise use stratified by fraud.\n",
    "\n",
    "2. *Handle missing ages* — fill with the *median* and add a column age_missing = 1 if it was missing. (If many are missing, consider a prediction-based imputer.)\n",
    "\n",
    "3. *Fix transaction outliers* — take log1p(amount) to reduce skew, add is_amount_outlier (e.g., amount > 99th percentile), and *cap* values only if they’re clearly wrong.\n",
    "\n",
    "4. *Encode categories* — for low-cardinality (payment method) use *one-hot. For many categories (merchant\\_id) use **frequency* or *target encoding* with out-of-fold smoothing. Treat missing category as \"missing\".\n",
    "\n",
    "5. *Handle imbalance* — pick metrics (Precision, Recall, PR-AUC). Start with class_weight='balanced' for models; if needed try *SMOTE* or undersampling *inside* the training pipeline only.\n",
    "\n",
    "6. *Build a safe pipeline* — use ColumnTransformer + Pipeline (or imblearn.Pipeline) so imputation, encoding, scaling, and resampling run *only on training data* (no leakage).\n",
    "\n",
    "7. *Create useful features* — add simple high-value features: hour/day from timestamp, customer rolling avg amount, txn count in last 7/30 days, ratio of amount to customer avg, new-device flag.\n",
    "\n",
    "8. *Scale numeric features* — after log transform, use RobustScaler for skew/outliers or StandardScaler for linear models. Fit scaler on train only.\n",
    "\n",
    "9. *Validate & pick threshold* — use time CV or stratified CV, evaluate PR-AUC and precision\\@k, then pick a probability threshold that matches business cost (FP vs FN).\n",
    "\n",
    "10. *Save & monitor* — save preprocessing objects with the model, and monitor model/data drift and fraud rate once deployed."
   ]
  }
 ],
 "metadata": {
  "kernelspec": {
   "display_name": "Python 3 (ipykernel)",
   "language": "python",
   "name": "python3"
  },
  "language_info": {
   "codemirror_mode": {
    "name": "ipython",
    "version": 3
   },
   "file_extension": ".py",
   "mimetype": "text/x-python",
   "name": "python",
   "nbconvert_exporter": "python",
   "pygments_lexer": "ipython3",
   "version": "3.13.5"
  }
 },
 "nbformat": 4,
 "nbformat_minor": 5
}
